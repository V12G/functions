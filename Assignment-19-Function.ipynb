{
 "cells": [
  {
   "cell_type": "code",
   "execution_count": 7,
   "id": "73874a45",
   "metadata": {},
   "outputs": [
    {
     "name": "stdout",
     "output_type": "stream",
     "text": [
      "a\n"
     ]
    }
   ],
   "source": [
    "# Write a python program to create a simple function which prints “MySirG” .\n",
    "def f1(a):\n",
    "    print(\"MysirG\")\n",
    "f1(\"MysirG\")"
   ]
  },
  {
   "cell_type": "code",
   "execution_count": 9,
   "id": "24a6c682",
   "metadata": {},
   "outputs": [
    {
     "name": "stdout",
     "output_type": "stream",
     "text": [
      "Sum is: 30\n"
     ]
    }
   ],
   "source": [
    "'''Write a python program to create a function which expects two arguments and print\n",
    "them in the function body.'''\n",
    "def add(a,b):\n",
    "    c=a+b\n",
    "    print(\"Sum is:\",c)\n",
    "add(10,20)"
   ]
  },
  {
   "cell_type": "code",
   "execution_count": 13,
   "id": "088332f6",
   "metadata": {},
   "outputs": [
    {
     "name": "stdout",
     "output_type": "stream",
     "text": [
      "Average is: 20.0\n"
     ]
    }
   ],
   "source": [
    "'''Write a python program to create a function which expects an unknown number of\n",
    "arguments.'''\n",
    "def average(*n):\n",
    "    a=sum(n)/len(n)\n",
    "    print(\"Average is:\",a)\n",
    "average(10,20,30)"
   ]
  },
  {
   "cell_type": "code",
   "execution_count": 14,
   "id": "cf6df39b",
   "metadata": {},
   "outputs": [
    {
     "name": "stdout",
     "output_type": "stream",
     "text": [
      "Sum is: 60\n"
     ]
    }
   ],
   "source": [
    "def add(*n):\n",
    "    a=sum(n)\n",
    "    print(\"Sum is:\",a)\n",
    "add(10,20,30)"
   ]
  },
  {
   "cell_type": "code",
   "execution_count": 15,
   "id": "aeee59f8",
   "metadata": {},
   "outputs": [
    {
     "name": "stdout",
     "output_type": "stream",
     "text": [
      "A is 2 B is 3\n"
     ]
    }
   ],
   "source": [
    "# Write a python program to create a function which expects kwargs arguments.\n",
    "def f1(a,b):\n",
    "    print(\"A is\",a,\"B is\",b)\n",
    "f1(2,3) # here this is called positional argumnet in this 1st value will assign in first variable and second will in second.\n"
   ]
  },
  {
   "cell_type": "code",
   "execution_count": 16,
   "id": "6abd7893",
   "metadata": {},
   "outputs": [
    {
     "name": "stdout",
     "output_type": "stream",
     "text": [
      "A is 3 B is 2\n"
     ]
    }
   ],
   "source": [
    "f1(a=3,b=2) # here this is called keyword argument because during call the function user can assign the value in variable."
   ]
  },
  {
   "cell_type": "code",
   "execution_count": 20,
   "id": "d0e2c8c2",
   "metadata": {},
   "outputs": [
    {
     "name": "stdout",
     "output_type": "stream",
     "text": [
      "[10, 20, 30]\n"
     ]
    }
   ],
   "source": [
    "# Write a python program to create a function which expects a list as an argument.\n",
    "def f1(*n):\n",
    "    a=list(n)\n",
    "    print(a)\n",
    "f1(10,20,30)"
   ]
  },
  {
   "cell_type": "code",
   "execution_count": 22,
   "id": "18fe59ee",
   "metadata": {},
   "outputs": [
    {
     "name": "stdout",
     "output_type": "stream",
     "text": [
      "40\n"
     ]
    }
   ],
   "source": [
    "# Write a python program to create a function that finds a maximum of four numbers.\n",
    "def large(a,b,c,d):\n",
    "    print(max(a,b,c,d))\n",
    "large(10,20,30,40)"
   ]
  },
  {
   "cell_type": "code",
   "execution_count": 36,
   "id": "03bde452",
   "metadata": {},
   "outputs": [
    {
     "name": "stdout",
     "output_type": "stream",
     "text": [
      "12\n"
     ]
    }
   ],
   "source": [
    "# Write a python program to sum all the numbers in a list.\n",
    "def add(n):\n",
    "    sum=0\n",
    "    for e in n:\n",
    "        sum=sum+e\n",
    "    return sum\n",
    "list=[2,4,6]\n",
    "print(add(list))"
   ]
  },
  {
   "cell_type": "code",
   "execution_count": 35,
   "id": "aecf9699",
   "metadata": {},
   "outputs": [
    {
     "name": "stdout",
     "output_type": "stream",
     "text": [
      "384\n"
     ]
    }
   ],
   "source": [
    "# Write a python program to multiply all the numbers in a list.\n",
    "def multi(n):\n",
    "    product=1\n",
    "    for e in n:\n",
    "        product=product*e\n",
    "    return product\n",
    "list=[2,4,6,8]\n",
    "print(multi(list))\n",
    "   \n"
   ]
  },
  {
   "cell_type": "code",
   "execution_count": 52,
   "id": "fe0c78ea",
   "metadata": {},
   "outputs": [
    {
     "name": "stdout",
     "output_type": "stream",
     "text": [
      "The gien number is out of range: 101\n"
     ]
    }
   ],
   "source": [
    "'''Write a python program to create a function to check whether a number falls in a\n",
    "given range.'''\n",
    "def number(n):\n",
    "    for e in range(n):\n",
    "       if n<100:\n",
    "        print(\"The given number is range\",n)\n",
    "        n+=1\n",
    "        \n",
    "    else:\n",
    "        print(\"The gien number is out of range:\",n)\n",
    "number(101)"
   ]
  },
  {
   "cell_type": "code",
   "execution_count": 54,
   "id": "4b6cd266",
   "metadata": {},
   "outputs": [
    {
     "name": "stdout",
     "output_type": "stream",
     "text": [
      "Number is even: 10\n"
     ]
    }
   ],
   "source": [
    "'''Write a python program to create a function to check whether a given number is even\n",
    "or odd.'''\n",
    "def number(n):\n",
    "    if n%2==0:\n",
    "        print(\"Number is even:\",n)\n",
    "        n+=1\n",
    "    else:\n",
    "        print(\"Number is odd:\",n)\n",
    "number(10)"
   ]
  },
  {
   "cell_type": "code",
   "execution_count": null,
   "id": "c808c6ba",
   "metadata": {},
   "outputs": [],
   "source": []
  }
 ],
 "metadata": {
  "kernelspec": {
   "display_name": "Python 3 (ipykernel)",
   "language": "python",
   "name": "python3"
  },
  "language_info": {
   "codemirror_mode": {
    "name": "ipython",
    "version": 3
   },
   "file_extension": ".py",
   "mimetype": "text/x-python",
   "name": "python",
   "nbconvert_exporter": "python",
   "pygments_lexer": "ipython3",
   "version": "3.9.7"
  }
 },
 "nbformat": 4,
 "nbformat_minor": 5
}
